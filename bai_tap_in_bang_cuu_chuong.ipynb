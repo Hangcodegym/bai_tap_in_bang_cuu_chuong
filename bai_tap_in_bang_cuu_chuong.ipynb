{
 "cells": [
  {
   "cell_type": "code",
   "execution_count": null,
   "id": "dde331a2",
   "metadata": {},
   "outputs": [],
   "source": [
    "def in_bang_cuu_chuong(so):\n",
    "    for i in range (1, 11):\n",
    "        print(f'{so} x {i}= {so*i}')\n",
    "in_bang_cuu_chuong (5)"
   ]
  }
 ],
 "metadata": {
  "kernelspec": {
   "display_name": "Python 3 (ipykernel)",
   "language": "python",
   "name": "python3"
  },
  "language_info": {
   "codemirror_mode": {
    "name": "ipython",
    "version": 3
   },
   "file_extension": ".py",
   "mimetype": "text/x-python",
   "name": "python",
   "nbconvert_exporter": "python",
   "pygments_lexer": "ipython3",
   "version": "3.9.12"
  }
 },
 "nbformat": 4,
 "nbformat_minor": 5
}
